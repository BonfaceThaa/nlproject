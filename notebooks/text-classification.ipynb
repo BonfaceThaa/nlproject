{
 "cells": [
  {
   "cell_type": "code",
   "execution_count": 1,
   "metadata": {
    "collapsed": true,
    "pycharm": {
     "is_executing": false
    }
   },
   "outputs": [],
   "source": [
    "# import relevant libs\n",
    "import random\n",
    "import nltk\n",
    "from nltk.corpus import movie_reviews"
   ]
  },
  {
   "cell_type": "code",
   "execution_count": 2,
   "outputs": [
    {
     "name": "stdout",
     "text": [
      "Number of Documents: 2000\n",
      "First Review: (['capsule', ':', 'earthy', ',', 'experimental', ',', 'difficult', ',', 'shockingly', 'frank', '(', 'even', 'for', '1997', '!', ')', ',', 'and', 'ultimately', 'refreshing', 'story', 'of', 'a', 'black', 'man', 'on', 'the', 'run', 'from', 'the', 'cops', '.', 'the', 'first', 'few', 'minutes', 'of', 'sweet', 'sweetback', \"'\", 's', 'baad', 'asssss', 'song', '(', 'yes', ',', 'i', 'checked', '--', 'that', \"'\", 's', 'the', 'correct', 'number', 'of', 'ss', ')', 'are', 'without', 'dialogue', ',', 'just', 'eerie', 'montages', 'of', 'sounds', '.', 'a', 'young', 'boy', ',', 'obviously', 'malnourished', ',', 'is', 'taken', 'in', 'and', 'fed', 'up', 'by', 'several', 'loving', 'mother', '-', 'surrogate', 'figures', '.', 'then', 'one', 'of', 'them', 'takes', 'the', 'boy', 'to', 'bed', 'for', 'a', 'sexual', 'initation', '(', 'underneath', 'the', 'title', 'credits', ')', 'that', \"'\", 's', 'far', 'more', 'confrontatory', 'and', 'shocking', 'than', 'any', 'ten', 'basic', 'instincts', '--', 'probably', 'because', 'it', 'has', 'the', 'directness', 'and', 'clumsiness', 'of', 'real', 'life', ',', 'something', 'we', \"'\", 're', 'not', 'used', 'to', 'seeing', 'on', 'screen', '.', 'this', 'is', 'one', 'tough', 'movie', 'to', 'swallow', ',', 'no', 'matter', 'who', 'you', 'are', ',', 'but', 'that', 'probably', 'reflects', 'more', 'on', 'how', 'pallid', 'and', 'unchallenging', 'movies', 'have', 'gotten', 'lately', '.', '(', 'i', 'suspect', 'the', 'sex', 'scenes', 'in', 'movies', 'like', 'el', 'topo', 'and', 'salo', 'would', 'probably', 'melt', 'the', 'synapses', 'of', 'most', 'modern', 'audiences', '.', ')', 'the', 'plot', 'is', 'simple', 'but', 'not', 'simpleminded', '.', 'sweetback', ',', 'hassled', 'by', 'two', 'white', 'cops', 'who', 'are', 'apparently', 'just', 'looking', 'for', 'an', 'excuse', 'to', 'beat', 'up', 'on', 'a', 'black', 'man', ',', 'breaks', 'his', 'bonds', 'and', 'runs', 'like', 'hell', '.', 'along', 'the', 'way', 'he', 'moves', 'through', 'a', 'good', 'many', 'of', 'the', 'kinds', 'of', 'environments', 'that', 'we', 'are', 'only', 'just', 'now', 'being', 'seen', 'in', 'a', 'more', 'serious', 'light', 'in', 'the', 'movies', '--', 'or', 'at', 'all', ',', 'for', 'that', 'matter', ':', 'the', 'slums', ',', 'the', 'missions', ',', 'the', 'ghetto', '.', 'in', 'other', ',', 'lesser', ',', 'movies', ',', 'sweetback', 'would', 'be', 'machine', '-', 'gunning', 'everything', 'in', 'sight', 'and', 'the', 'end', 'credits', 'would', 'roll', 'over', 'a', 'pile', 'of', 'bodies', ';', 'in', 'this', 'one', ',', 'we', 'get', 'taken', 'on', 'a', 'kind', 'of', 'a', 'tour', 'of', 'the', 'depressing', 'and', 'anarchic', 'world', 'that', 'sweetback', 'takes', 'for', 'granted', '.', 'ssbas', 'first', 'appeared', 'in', '1971', 'and', 'was', 'promptly', 'rated', 'x', '(', '\"', 'by', 'an', 'all', '-', 'white', 'jury', '\"', ',', 'as', 'director', 'melvin', 'van', 'peebles', 'crowed', 'in', 'his', 'legendary', 'ad', 'campaigns', ')', ',', 'and', 'it', \"'\", 's', 'hardly', 'surprising', 'why', '.', 'there', \"'\", 's', 'a', 'good', 'deal', 'of', 'sex', 'in', 'the', 'movie', ',', 'but', 'it', \"'\", 's', 'handled', 'in', 'a', 'way', 'that', \"'\", 's', 'unsettlingly', 'frank', '--', 'a', 'frankness', 'that', 'spills', 'over', 'into', 'the', 'rest', 'of', 'the', 'movie', '.', 'in', 'one', 'scene', ',', 'sweetback', 'visits', 'a', 'friend', \"'\", 's', 'house', 'in', 'the', 'hope', 'of', 'getting', 'sanctuary', 'there', ',', 'and', 'the', 'other', 'man', 'chats', 'him', 'up', 'while', 'on', 'the', 'toilet', '.', 'we', \"'\", 're', 'not', 'used', 'to', 'coming', 'this', 'close', 'to', 'people', 'in', 'real', 'life', ',', 'let', 'alone', 'in', 'the', 'movies', '--', 'especially', 'not', 'people', 'who', 'are', 'not', 'made', 'out', 'to', 'be', 'glamorous', '.', 'the', 'movie', 'is', 'also', 'full', 'of', 'experimental', 'stylistics', 'that', 'are', 'relatively', 'unused', 'today', ',', 'but', 'probably', 'because', 'of', 'that', 'seem', 'curiously', 'fresh', 'and', 'new', 'in', 'van', 'peebles', \"'\", 'hands', '.', 'one', 'scene', ',', 'in', 'which', 'a', 'man', 'is', 'interrogated', 'by', 'the', 'cops', ',', 'is', 'loaded', 'full', 'of', 'menacing', 'energy', 'as', 'they', 'fire', 'off', 'a', 'gun', 'inches', 'from', 'his', 'ears', ',', 'and', 'suggest', 'his', 'deafness', 'through', 'a', 'cleverly', 'edited', 'soundtrack', '.', 'another', 'note', ':', 'ssbas', 'is', 'not', 'so', 'much', 'anti', '-', 'white', '(', 'that', 'would', 'be', 'too', 'easy', ')', 'as', 'anti', '-', 'authority', ',', 'and', 'as', 'the', 'movie', 'goes', 'on', 'to', 'demonstrate', ',', 'authority', 'exists', 'in', 'many', 'forms', '--', 'governments', ',', 'churches', ',', 'and', 'even', 'the', 'paranoid', 'inside', 'of', 'one', \"'\", 's', 'own', 'mind', '.', 'ssbas', 'is', 'ultimately', 'about', 'thirsting', 'for', 'freedom', '--', 'and', 'it', 'looks', 'like', 'we', 'could', 'use', 'a', 'little', 'more', 'of', 'that', 'in', 'our', 'movie', 'diet', ',', 'god', 'knows', '.'], 'pos')\n",
      "Most common words: [(',', 77717), ('the', 76529), ('.', 65876), ('a', 38106), ('and', 35576), ('of', 34123), ('to', 31937), (\"'\", 30585), ('is', 25195), ('in', 21822), ('s', 18513), ('\"', 17612), ('it', 16107), ('that', 15924), ('-', 15595)]\n",
      "The word happy: 215\n"
     ],
     "output_type": "stream"
    }
   ],
   "source": [
    "# build list of documents\n",
    "documents = [(list(movie_reviews.words(fileid)), category)\n",
    "             for category in movie_reviews.categories()\n",
    "             for fileid in movie_reviews.fileids(category)]\n",
    "\n",
    "# shuffle the documents\n",
    "random.shuffle(documents)\n",
    "\n",
    "print(\"Number of Documents: {}\".format(len(documents)))\n",
    "print(\"First Review: {}\".format(documents[0]))\n",
    "\n",
    "all_words = []\n",
    "for w in movie_reviews.words():\n",
    "    all_words.append(w.lower())\n",
    "    \n",
    "all_words = nltk.FreqDist(all_words)\n",
    "\n",
    "print(\"Most common words: {}\".format(all_words.most_common(15)))\n",
    "print(\"The word happy: {}\".format(all_words[\"happy\"]))\n"
   ],
   "metadata": {
    "collapsed": false,
    "pycharm": {
     "name": "#%%\n",
     "is_executing": false
    }
   }
  }
 ],
 "metadata": {
  "kernelspec": {
   "display_name": "Python 3",
   "language": "python",
   "name": "python3"
  },
  "language_info": {
   "codemirror_mode": {
    "name": "ipython",
    "version": 2
   },
   "file_extension": ".py",
   "mimetype": "text/x-python",
   "name": "python",
   "nbconvert_exporter": "python",
   "pygments_lexer": "ipython2",
   "version": "2.7.6"
  },
  "pycharm": {
   "stem_cell": {
    "cell_type": "raw",
    "source": [],
    "metadata": {
     "collapsed": false
    }
   }
  }
 },
 "nbformat": 4,
 "nbformat_minor": 0
}