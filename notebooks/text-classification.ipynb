{
 "cells": [
  {
   "cell_type": "code",
   "execution_count": 1,
   "metadata": {
    "collapsed": true,
    "pycharm": {
     "is_executing": false
    }
   },
   "outputs": [],
   "source": [
    "# import relevant libs\n",
    "import random\n",
    "import nltk\n",
    "from nltk.corpus import movie_reviews"
   ]
  },
  {
   "cell_type": "code",
   "execution_count": 2,
   "outputs": [
    {
     "name": "stdout",
     "text": [
      "Number of Documents: 2000\n",
      "First Review: (['capsule', ':', 'earthy', ',', 'experimental', ',', 'difficult', ',', 'shockingly', 'frank', '(', 'even', 'for', '1997', '!', ')', ',', 'and', 'ultimately', 'refreshing', 'story', 'of', 'a', 'black', 'man', 'on', 'the', 'run', 'from', 'the', 'cops', '.', 'the', 'first', 'few', 'minutes', 'of', 'sweet', 'sweetback', \"'\", 's', 'baad', 'asssss', 'song', '(', 'yes', ',', 'i', 'checked', '--', 'that', \"'\", 's', 'the', 'correct', 'number', 'of', 'ss', ')', 'are', 'without', 'dialogue', ',', 'just', 'eerie', 'montages', 'of', 'sounds', '.', 'a', 'young', 'boy', ',', 'obviously', 'malnourished', ',', 'is', 'taken', 'in', 'and', 'fed', 'up', 'by', 'several', 'loving', 'mother', '-', 'surrogate', 'figures', '.', 'then', 'one', 'of', 'them', 'takes', 'the', 'boy', 'to', 'bed', 'for', 'a', 'sexual', 'initation', '(', 'underneath', 'the', 'title', 'credits', ')', 'that', \"'\", 's', 'far', 'more', 'confrontatory', 'and', 'shocking', 'than', 'any', 'ten', 'basic', 'instincts', '--', 'probably', 'because', 'it', 'has', 'the', 'directness', 'and', 'clumsiness', 'of', 'real', 'life', ',', 'something', 'we', \"'\", 're', 'not', 'used', 'to', 'seeing', 'on', 'screen', '.', 'this', 'is', 'one', 'tough', 'movie', 'to', 'swallow', ',', 'no', 'matter', 'who', 'you', 'are', ',', 'but', 'that', 'probably', 'reflects', 'more', 'on', 'how', 'pallid', 'and', 'unchallenging', 'movies', 'have', 'gotten', 'lately', '.', '(', 'i', 'suspect', 'the', 'sex', 'scenes', 'in', 'movies', 'like', 'el', 'topo', 'and', 'salo', 'would', 'probably', 'melt', 'the', 'synapses', 'of', 'most', 'modern', 'audiences', '.', ')', 'the', 'plot', 'is', 'simple', 'but', 'not', 'simpleminded', '.', 'sweetback', ',', 'hassled', 'by', 'two', 'white', 'cops', 'who', 'are', 'apparently', 'just', 'looking', 'for', 'an', 'excuse', 'to', 'beat', 'up', 'on', 'a', 'black', 'man', ',', 'breaks', 'his', 'bonds', 'and', 'runs', 'like', 'hell', '.', 'along', 'the', 'way', 'he', 'moves', 'through', 'a', 'good', 'many', 'of', 'the', 'kinds', 'of', 'environments', 'that', 'we', 'are', 'only', 'just', 'now', 'being', 'seen', 'in', 'a', 'more', 'serious', 'light', 'in', 'the', 'movies', '--', 'or', 'at', 'all', ',', 'for', 'that', 'matter', ':', 'the', 'slums', ',', 'the', 'missions', ',', 'the', 'ghetto', '.', 'in', 'other', ',', 'lesser', ',', 'movies', ',', 'sweetback', 'would', 'be', 'machine', '-', 'gunning', 'everything', 'in', 'sight', 'and', 'the', 'end', 'credits', 'would', 'roll', 'over', 'a', 'pile', 'of', 'bodies', ';', 'in', 'this', 'one', ',', 'we', 'get', 'taken', 'on', 'a', 'kind', 'of', 'a', 'tour', 'of', 'the', 'depressing', 'and', 'anarchic', 'world', 'that', 'sweetback', 'takes', 'for', 'granted', '.', 'ssbas', 'first', 'appeared', 'in', '1971', 'and', 'was', 'promptly', 'rated', 'x', '(', '\"', 'by', 'an', 'all', '-', 'white', 'jury', '\"', ',', 'as', 'director', 'melvin', 'van', 'peebles', 'crowed', 'in', 'his', 'legendary', 'ad', 'campaigns', ')', ',', 'and', 'it', \"'\", 's', 'hardly', 'surprising', 'why', '.', 'there', \"'\", 's', 'a', 'good', 'deal', 'of', 'sex', 'in', 'the', 'movie', ',', 'but', 'it', \"'\", 's', 'handled', 'in', 'a', 'way', 'that', \"'\", 's', 'unsettlingly', 'frank', '--', 'a', 'frankness', 'that', 'spills', 'over', 'into', 'the', 'rest', 'of', 'the', 'movie', '.', 'in', 'one', 'scene', ',', 'sweetback', 'visits', 'a', 'friend', \"'\", 's', 'house', 'in', 'the', 'hope', 'of', 'getting', 'sanctuary', 'there', ',', 'and', 'the', 'other', 'man', 'chats', 'him', 'up', 'while', 'on', 'the', 'toilet', '.', 'we', \"'\", 're', 'not', 'used', 'to', 'coming', 'this', 'close', 'to', 'people', 'in', 'real', 'life', ',', 'let', 'alone', 'in', 'the', 'movies', '--', 'especially', 'not', 'people', 'who', 'are', 'not', 'made', 'out', 'to', 'be', 'glamorous', '.', 'the', 'movie', 'is', 'also', 'full', 'of', 'experimental', 'stylistics', 'that', 'are', 'relatively', 'unused', 'today', ',', 'but', 'probably', 'because', 'of', 'that', 'seem', 'curiously', 'fresh', 'and', 'new', 'in', 'van', 'peebles', \"'\", 'hands', '.', 'one', 'scene', ',', 'in', 'which', 'a', 'man', 'is', 'interrogated', 'by', 'the', 'cops', ',', 'is', 'loaded', 'full', 'of', 'menacing', 'energy', 'as', 'they', 'fire', 'off', 'a', 'gun', 'inches', 'from', 'his', 'ears', ',', 'and', 'suggest', 'his', 'deafness', 'through', 'a', 'cleverly', 'edited', 'soundtrack', '.', 'another', 'note', ':', 'ssbas', 'is', 'not', 'so', 'much', 'anti', '-', 'white', '(', 'that', 'would', 'be', 'too', 'easy', ')', 'as', 'anti', '-', 'authority', ',', 'and', 'as', 'the', 'movie', 'goes', 'on', 'to', 'demonstrate', ',', 'authority', 'exists', 'in', 'many', 'forms', '--', 'governments', ',', 'churches', ',', 'and', 'even', 'the', 'paranoid', 'inside', 'of', 'one', \"'\", 's', 'own', 'mind', '.', 'ssbas', 'is', 'ultimately', 'about', 'thirsting', 'for', 'freedom', '--', 'and', 'it', 'looks', 'like', 'we', 'could', 'use', 'a', 'little', 'more', 'of', 'that', 'in', 'our', 'movie', 'diet', ',', 'god', 'knows', '.'], 'pos')\n",
      "Most common words: [(',', 77717), ('the', 76529), ('.', 65876), ('a', 38106), ('and', 35576), ('of', 34123), ('to', 31937), (\"'\", 30585), ('is', 25195), ('in', 21822), ('s', 18513), ('\"', 17612), ('it', 16107), ('that', 15924), ('-', 15595)]\n",
      "The word happy: 215\n"
     ],
     "output_type": "stream"
    }
   ],
   "source": [
    "# build list of documents\n",
    "documents = [(list(movie_reviews.words(fileid)), category)\n",
    "             for category in movie_reviews.categories()\n",
    "             for fileid in movie_reviews.fileids(category)]\n",
    "\n",
    "# shuffle the documents\n",
    "random.shuffle(documents)\n",
    "\n",
    "print(\"Number of Documents: {}\".format(len(documents)))\n",
    "print(\"First Review: {}\".format(documents[0]))\n",
    "\n",
    "all_words = []\n",
    "for w in movie_reviews.words():\n",
    "    all_words.append(w.lower())\n",
    "    \n",
    "all_words = nltk.FreqDist(all_words)\n",
    "\n",
    "print(\"Most common words: {}\".format(all_words.most_common(15)))\n",
    "print(\"The word happy: {}\".format(all_words[\"happy\"]))\n"
   ],
   "metadata": {
    "collapsed": false,
    "pycharm": {
     "name": "#%%\n",
     "is_executing": false
    }
   }
  },
  {
   "cell_type": "code",
   "execution_count": 5,
   "outputs": [],
   "source": [
    "# features of top 4000 words\n",
    "word_features = list(all_words.keys())[:4000]\n",
    " "
   ],
   "metadata": {
    "collapsed": false,
    "pycharm": {
     "name": "#%%\n",
     "is_executing": false
    }
   }
  },
  {
   "cell_type": "code",
   "execution_count": 6,
   "outputs": [
    {
     "name": "stdout",
     "text": [
      "plot\n",
      ":\n",
      "two\n",
      "teen\n",
      "couples\n",
      "go\n",
      "to\n",
      "a\n",
      "church\n",
      "party\n",
      ",\n",
      "drink\n",
      "and\n",
      "then\n",
      "drive\n",
      ".\n",
      "they\n",
      "get\n",
      "into\n",
      "an\n",
      "accident\n",
      "one\n",
      "of\n",
      "the\n",
      "guys\n",
      "dies\n",
      "but\n",
      "his\n",
      "girlfriend\n",
      "continues\n",
      "see\n",
      "him\n",
      "in\n",
      "her\n",
      "life\n",
      "has\n",
      "nightmares\n",
      "what\n",
      "'\n",
      "s\n",
      "deal\n",
      "?\n",
      "watch\n",
      "movie\n",
      "\"\n",
      "sorta\n",
      "find\n",
      "out\n",
      "critique\n",
      "mind\n",
      "-\n",
      "fuck\n",
      "for\n",
      "generation\n",
      "that\n",
      "touches\n",
      "on\n",
      "very\n",
      "cool\n",
      "idea\n",
      "presents\n",
      "it\n",
      "bad\n",
      "package\n",
      "which\n",
      "is\n",
      "makes\n",
      "this\n",
      "review\n",
      "even\n",
      "harder\n",
      "write\n",
      "since\n",
      "i\n",
      "generally\n",
      "applaud\n",
      "films\n",
      "attempt\n",
      "break\n",
      "mold\n",
      "mess\n",
      "with\n",
      "your\n",
      "head\n",
      "such\n",
      "(\n",
      "lost\n",
      "highway\n",
      "&\n",
      "memento\n",
      ")\n",
      "there\n",
      "are\n",
      "good\n",
      "ways\n",
      "making\n",
      "all\n",
      "types\n",
      "these\n",
      "folks\n",
      "just\n",
      "didn\n",
      "t\n",
      "snag\n",
      "correctly\n",
      "seem\n",
      "have\n",
      "taken\n",
      "pretty\n",
      "neat\n",
      "concept\n",
      "executed\n",
      "terribly\n",
      "so\n",
      "problems\n",
      "well\n",
      "its\n",
      "main\n",
      "problem\n",
      "simply\n",
      "too\n",
      "jumbled\n",
      "starts\n",
      "off\n",
      "normal\n",
      "downshifts\n",
      "fantasy\n",
      "world\n",
      "you\n",
      "as\n",
      "audience\n",
      "member\n",
      "no\n",
      "going\n",
      "dreams\n",
      "characters\n",
      "coming\n",
      "back\n",
      "from\n",
      "dead\n",
      "others\n",
      "who\n",
      "look\n",
      "like\n",
      "strange\n",
      "apparitions\n",
      "disappearances\n",
      "looooot\n",
      "chase\n",
      "scenes\n",
      "tons\n",
      "weird\n",
      "things\n",
      "happen\n",
      "most\n",
      "not\n",
      "explained\n",
      "now\n",
      "personally\n",
      "don\n",
      "trying\n",
      "unravel\n",
      "film\n",
      "every\n",
      "when\n",
      "does\n",
      "give\n",
      "me\n",
      "same\n",
      "clue\n",
      "over\n",
      "again\n",
      "kind\n",
      "fed\n",
      "up\n",
      "after\n",
      "while\n",
      "biggest\n",
      "obviously\n",
      "got\n",
      "big\n",
      "secret\n",
      "hide\n",
      "seems\n",
      "want\n",
      "completely\n",
      "until\n",
      "final\n",
      "five\n",
      "minutes\n",
      "do\n",
      "make\n",
      "entertaining\n",
      "thrilling\n",
      "or\n",
      "engaging\n",
      "meantime\n",
      "really\n",
      "sad\n",
      "part\n",
      "arrow\n",
      "both\n",
      "dig\n",
      "flicks\n",
      "we\n",
      "actually\n",
      "figured\n",
      "by\n",
      "half\n",
      "way\n",
      "point\n",
      "strangeness\n",
      "did\n",
      "start\n",
      "little\n",
      "bit\n",
      "sense\n",
      "still\n",
      "more\n",
      "guess\n",
      "bottom\n",
      "line\n",
      "movies\n",
      "should\n",
      "always\n",
      "sure\n",
      "before\n",
      "given\n",
      "password\n",
      "enter\n",
      "understanding\n",
      "mean\n",
      "showing\n",
      "melissa\n",
      "sagemiller\n",
      "running\n",
      "away\n",
      "visions\n",
      "about\n",
      "20\n",
      "throughout\n",
      "plain\n",
      "lazy\n",
      "!\n",
      "okay\n",
      "people\n",
      "chasing\n",
      "know\n",
      "need\n",
      "how\n",
      "giving\n",
      "us\n",
      "different\n",
      "offering\n",
      "further\n",
      "insight\n",
      "down\n",
      "apparently\n",
      "studio\n",
      "took\n",
      "director\n",
      "chopped\n",
      "themselves\n",
      "shows\n",
      "might\n",
      "ve\n",
      "been\n",
      "decent\n",
      "here\n",
      "somewhere\n",
      "suits\n",
      "decided\n",
      "turning\n",
      "music\n",
      "video\n",
      "edge\n",
      "would\n",
      "actors\n",
      "although\n",
      "wes\n",
      "bentley\n",
      "seemed\n",
      "be\n",
      "playing\n",
      "exact\n",
      "character\n",
      "he\n",
      "american\n",
      "beauty\n",
      "only\n",
      "new\n",
      "neighborhood\n",
      "my\n",
      "kudos\n",
      "holds\n",
      "own\n",
      "entire\n",
      "feeling\n",
      "unraveling\n",
      "overall\n",
      "doesn\n",
      "stick\n",
      "because\n",
      "entertain\n",
      "confusing\n",
      "rarely\n",
      "excites\n",
      "feels\n",
      "redundant\n",
      "runtime\n",
      "despite\n",
      "ending\n",
      "explanation\n",
      "craziness\n",
      "came\n",
      "oh\n",
      "horror\n",
      "slasher\n",
      "flick\n",
      "packaged\n",
      "someone\n",
      "assuming\n",
      "genre\n",
      "hot\n",
      "kids\n",
      "also\n",
      "wrapped\n",
      "production\n",
      "years\n",
      "ago\n",
      "sitting\n",
      "shelves\n",
      "ever\n",
      "whatever\n",
      "skip\n",
      "where\n",
      "joblo\n",
      "nightmare\n",
      "elm\n",
      "street\n",
      "3\n",
      "7\n",
      "/\n",
      "10\n",
      "blair\n",
      "witch\n",
      "2\n",
      "crow\n",
      "9\n",
      "salvation\n",
      "4\n",
      "stir\n",
      "echoes\n",
      "8\n"
     ],
     "output_type": "stream"
    }
   ],
   "source": [
    "# build features function that will determine\n",
    "def find_features(document):\n",
    "    words = set(document)\n",
    "    features = {}\n",
    "    \n",
    "    for w in word_features:\n",
    "        features[w] = (w in words)\n",
    "    \n",
    "    return features\n",
    "\n",
    "features = find_features(movie_reviews.words('neg/cv000_29416.txt'))\n",
    "for key, value in features.items():\n",
    "    if value == True:\n",
    "        print(key)\n",
    "\n",
    "    "
   ],
   "metadata": {
    "collapsed": false,
    "pycharm": {
     "name": "#%%\n",
     "is_executing": false
    }
   }
  },
  {
   "cell_type": "code",
   "execution_count": 9,
   "outputs": [],
   "source": [
    "featuresets = [(find_features(rev), category) for (rev,category) in documents]\n"
   ],
   "metadata": {
    "collapsed": false,
    "pycharm": {
     "name": "#%%\n",
     "is_executing": false
    }
   }
  },
  {
   "cell_type": "code",
   "execution_count": 10,
   "outputs": [],
   "source": [
    "from sklearn import model_selection\n",
    "\n",
    "seed = 1\n",
    "\n",
    "training, testing = model_selection.train_test_split(featuresets, test_size= 0.25, random_state= seed)"
   ],
   "metadata": {
    "collapsed": false,
    "pycharm": {
     "name": "#%%\n",
     "is_executing": false
    }
   }
  },
  {
   "cell_type": "code",
   "execution_count": 12,
   "outputs": [
    {
     "name": "stderr",
     "text": [
      "IOPub data rate exceeded.\n",
      "The notebook server will temporarily stop sending output\n",
      "to the client in order to avoid crashing it.\n",
      "To change this limit, set the config variable\n",
      "`--NotebookApp.iopub_data_rate_limit`.\n",
      "\n",
      "Current values:\n",
      "NotebookApp.iopub_data_rate_limit=1000000.0 (bytes/sec)\n",
      "NotebookApp.rate_limit_window=3.0 (secs)\n",
      "\n"
     ],
     "output_type": "stream"
    }
   ],
   "source": [
    "print(len(training))\n",
    "print((testing))"
   ],
   "metadata": {
    "collapsed": false,
    "pycharm": {
     "name": "#%%\n",
     "is_executing": false
    }
   }
  },
  {
   "cell_type": "code",
   "execution_count": 13,
   "outputs": [],
   "source": [
    "from nltk.classify.scikitlearn import SklearnClassifier\n",
    "from sklearn.svm import SVC"
   ],
   "metadata": {
    "collapsed": false,
    "pycharm": {
     "name": "#%%\n",
     "is_executing": false
    }
   }
  },
  {
   "cell_type": "code",
   "execution_count": 14,
   "outputs": [],
   "source": [
    "model = SklearnClassifier(SVC(kernel= 'linear'))"
   ],
   "metadata": {
    "collapsed": false,
    "pycharm": {
     "name": "#%%\n",
     "is_executing": false
    }
   }
  },
  {
   "cell_type": "code",
   "execution_count": 15,
   "outputs": [
    {
     "data": {
      "text/plain": "<SklearnClassifier(SVC(kernel='linear'))>"
     },
     "metadata": {},
     "output_type": "execute_result",
     "execution_count": 15
    }
   ],
   "source": [
    "model.train(training)"
   ],
   "metadata": {
    "collapsed": false,
    "pycharm": {
     "name": "#%%\n",
     "is_executing": false
    }
   }
  },
  {
   "cell_type": "code",
   "execution_count": 16,
   "outputs": [
    {
     "name": "stdout",
     "text": [
      "SVC Accuracy: 0.814\n"
     ],
     "output_type": "stream"
    }
   ],
   "source": [
    "accuracy = nltk.classify.accuracy(model, testing)\n",
    "print(\"SVC Accuracy: {}\".format(accuracy))"
   ],
   "metadata": {
    "collapsed": false,
    "pycharm": {
     "name": "#%%\n",
     "is_executing": false
    }
   }
  },
  {
   "cell_type": "code",
   "execution_count": null,
   "outputs": [],
   "source": [
    "\n"
   ],
   "metadata": {
    "collapsed": false,
    "pycharm": {
     "name": "#%%\n"
    }
   }
  }
 ],
 "metadata": {
  "kernelspec": {
   "display_name": "Python 3",
   "language": "python",
   "name": "python3"
  },
  "language_info": {
   "codemirror_mode": {
    "name": "ipython",
    "version": 2
   },
   "file_extension": ".py",
   "mimetype": "text/x-python",
   "name": "python",
   "nbconvert_exporter": "python",
   "pygments_lexer": "ipython2",
   "version": "2.7.6"
  },
  "pycharm": {
   "stem_cell": {
    "cell_type": "raw",
    "source": [],
    "metadata": {
     "collapsed": false
    }
   }
  }
 },
 "nbformat": 4,
 "nbformat_minor": 0
}