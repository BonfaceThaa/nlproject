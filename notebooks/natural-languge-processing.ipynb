{
 "cells": [
  {
   "cell_type": "code",
   "execution_count": 1,
   "metadata": {
    "collapsed": true,
    "pycharm": {
     "is_executing": false
    }
   },
   "outputs": [],
   "source": [
    "import nltk\n",
    "import sklearn "
   ]
  },
  {
   "cell_type": "code",
   "execution_count": 2,
   "outputs": [
    {
     "name": "stdout",
     "text": [
      "['Hello student, how are you doing today?', 'The Olympics are inspiring, and Python is awesome.', 'You look great today']\n"
     ],
     "output_type": "stream"
    }
   ],
   "source": [
    "from nltk.tokenize import sent_tokenize, word_tokenize\n",
    "\n",
    "text = 'Hello student, how are you doing today? The Olympics are inspiring, and Python is awesome. You look great today'\n",
    "\n",
    "print(sent_tokenize(text))"
   ],
   "metadata": {
    "collapsed": false,
    "pycharm": {
     "name": "#%%\n",
     "is_executing": false
    }
   }
  },
  {
   "cell_type": "code",
   "execution_count": 5,
   "outputs": [
    {
     "name": "stdout",
     "text": [
      "['Hello', 'student', ',', 'how', 'are', 'you', 'doing', 'today', '?', 'The', 'Olympics', 'are', 'inspiring', ',', 'and', 'Python', 'is', 'awesome', '.', 'You', 'look', 'great', 'today']\n",
      "{\"you've\", 'they', 'themselves', 't', \"shouldn't\", \"wouldn't\", 'ours', \"it's\", \"don't\", 'own', 'because', \"didn't\", 'll', 'them', 'needn', 'will', 'in', 'now', 'only', \"isn't\", 'we', 's', \"you'd\", 'over', 'on', 'down', 'most', 'such', 'so', 'between', 'after', 'theirs', 'be', 'why', 'you', 'a', 'ourselves', 'do', 'there', 'd', 'few', 'haven', 'did', 'further', 'through', \"haven't\", 'been', 'hers', 'here', 'for', 'some', 'this', 're', 'more', 'about', 'can', 'herself', 'aren', 'above', 'up', 'when', 'other', 'don', \"wasn't\", \"she's\", 'didn', 'whom', 'hadn', \"weren't\", 'and', 'then', 'before', 'which', 'at', 'how', \"hadn't\", 'once', 'just', 'doesn', 'yourselves', 've', 'the', 'couldn', 'being', \"aren't\", 'myself', 'itself', 'that', 'from', 'by', 'shouldn', 'below', 'yourself', 'mustn', 'him', 'under', 'my', 'himself', 'weren', 'while', 'should', \"mustn't\", 'wouldn', 'doing', \"you'll\", 'are', 'out', 'as', \"needn't\", 'with', 'does', 'having', 'me', 'of', \"that'll\", 'or', 'any', 'their', 'not', 'same', 'ain', \"hasn't\", 'both', 'but', \"you're\", 'have', 'your', 'hasn', 'yours', 'its', 'were', 'shan', 'o', 'until', 'into', \"won't\", 'her', 'very', 'won', 'what', 'he', 'than', \"mightn't\", 'again', 'isn', 'm', \"shan't\", 'mightn', 'all', 'these', 'if', 'no', 'too', 'those', 'wasn', 'each', 'against', 'off', 'our', 'am', 'an', 'during', 'ma', 'it', \"doesn't\", 'i', 'she', 'is', 'had', 'has', 'who', 'to', 'where', \"should've\", \"couldn't\", 'was', 'his', 'y', 'nor'}\n"
     ],
     "output_type": "stream"
    }
   ],
   "source": [
    "print(word_tokenize(text))\n",
    "\n",
    "from nltk.corpus import stopwords\n",
    "print(set(stopwords.words('english')))"
   ],
   "metadata": {
    "collapsed": false,
    "pycharm": {
     "name": "#%%\n",
     "is_executing": false
    }
   }
  },
  {
   "cell_type": "code",
   "execution_count": 6,
   "outputs": [
    {
     "name": "stdout",
     "text": [
      "['This', 'is', 'some', 'sample', 'text', ',', 'showing', 'off', 'the', 'stop', 'words', 'filtration']\n",
      "['This', 'sample', 'text', ',', 'showing', 'stop', 'words', 'filtration']\n",
      "['This', 'sample', 'text', ',', 'showing', 'stop', 'words', 'filtration']\n"
     ],
     "output_type": "stream"
    }
   ],
   "source": [
    "example = 'This is some sample text, showing off the stop words filtration'\n",
    "\n",
    "stop_words = set(stopwords.words('english'))\n",
    "\n",
    "word_tokens = word_tokenize(example)\n",
    "\n",
    "sentence = [w for w in word_tokens if not w in stop_words]\n",
    "\n",
    "filtered_sentence = []\n",
    "\n",
    "for w in word_tokens:\n",
    "    if w not in stop_words:\n",
    "        filtered_sentence.append(w)\n",
    "\n",
    "print(word_tokens)\n",
    "print(sentence)\n",
    "print(filtered_sentence)\n"
   ],
   "metadata": {
    "collapsed": false,
    "pycharm": {
     "name": "#%%\n",
     "is_executing": false
    }
   }
  },
  {
   "cell_type": "code",
   "execution_count": 7,
   "outputs": [
    {
     "name": "stdout",
     "text": [
      "ride\n",
      "rid\n",
      "rider\n",
      "ride\n"
     ],
     "output_type": "stream"
    }
   ],
   "source": [
    "from nltk.stem import PorterStemmer\n",
    "\n",
    "ps = PorterStemmer()\n",
    "\n",
    "example_words = ['ride', 'ridding', 'rider', 'rides']\n",
    "\n",
    "for w in example_words:\n",
    "    print(ps.stem(w))"
   ],
   "metadata": {
    "collapsed": false,
    "pycharm": {
     "name": "#%%\n",
     "is_executing": false
    }
   }
  },
  {
   "cell_type": "code",
   "execution_count": 8,
   "outputs": [
    {
     "name": "stdout",
     "text": [
      "when\n",
      "rider\n",
      "are\n",
      "rid\n",
      "their\n",
      "hors\n",
      ",\n",
      "they\n",
      "often\n",
      "think\n",
      "of\n",
      "how\n",
      "cowboy\n",
      "rode\n",
      "hors\n"
     ],
     "output_type": "stream"
    }
   ],
   "source": [
    "next_text = 'When riders are ridding their horses, they often think of how cowboys rode horses'\n",
    "\n",
    "words = word_tokenize(next_text)\n",
    "\n",
    "for w in words:\n",
    "    print(ps.stem(w))"
   ],
   "metadata": {
    "collapsed": false,
    "pycharm": {
     "name": "#%%\n",
     "is_executing": false
    }
   }
  }
 ],
 "metadata": {
  "kernelspec": {
   "display_name": "Python 3",
   "language": "python",
   "name": "python3"
  },
  "language_info": {
   "codemirror_mode": {
    "name": "ipython",
    "version": 2
   },
   "file_extension": ".py",
   "mimetype": "text/x-python",
   "name": "python",
   "nbconvert_exporter": "python",
   "pygments_lexer": "ipython2",
   "version": "2.7.6"
  },
  "pycharm": {
   "stem_cell": {
    "cell_type": "raw",
    "source": [],
    "metadata": {
     "collapsed": false
    }
   }
  }
 },
 "nbformat": 4,
 "nbformat_minor": 0
}